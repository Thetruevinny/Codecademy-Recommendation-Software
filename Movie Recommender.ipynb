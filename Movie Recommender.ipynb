{
 "cells": [
  {
   "cell_type": "markdown",
   "id": "5aca878a",
   "metadata": {},
   "source": [
    "## Creating a Recomendation Software for Movies"
   ]
  },
  {
   "cell_type": "markdown",
   "id": "ed21659e",
   "metadata": {},
   "source": [
    "### Project Goal"
   ]
  },
  {
   "cell_type": "markdown",
   "id": "db95bd9f",
   "metadata": {},
   "source": [
    "* From user input of a movie name, recommend similar types of movies and the current streaming services available to view it on."
   ]
  },
  {
   "cell_type": "markdown",
   "id": "36c715e2",
   "metadata": {},
   "source": [
    "### Creating Initial Classes for Function to Use"
   ]
  },
  {
   "cell_type": "code",
   "execution_count": 1,
   "id": "00a41e8b",
   "metadata": {},
   "outputs": [],
   "source": [
    "class Movies:\n",
    "    \n",
    "    def __init__(self):\n",
    "        \n",
    "        self.movie_list = {}\n",
    "        \n",
    "    def add_movie(self, title, genres):\n",
    "        \n",
    "        self.movie_list[title] = genres\n",
    "        \n",
    "        print(f'{title} has been added to movies.')\n",
    "        \n",
    "    def get_genres(self, title):\n",
    "        \n",
    "        return self.movie_list[title]"
   ]
  },
  {
   "cell_type": "markdown",
   "id": "b2a4dc8d",
   "metadata": {},
   "source": [
    "Creating Genre Class to store all movies in accordance with their different genres."
   ]
  },
  {
   "cell_type": "code",
   "execution_count": 2,
   "id": "16612b84",
   "metadata": {},
   "outputs": [],
   "source": [
    "class Genres:\n",
    "    \n",
    "    def __init__(self):\n",
    "        \n",
    "        self.genre_list = {}\n",
    "        \n",
    "    def add_genre(self, genre):\n",
    "        \n",
    "        if genre in self.genre_list:\n",
    "            \n",
    "            print('I\\'m sorry that genre has already been added.')\n",
    "            \n",
    "        else:\n",
    "            self.genre_list[genre] = []\n",
    "            \n",
    "    def add_movie(self, movie):\n",
    "        \n",
    "        for genre in movie.get_genres():\n",
    "            \n",
    "            if genre in self.genre_list:\n",
    "            \n",
    "                self.genre_list[genre].append(movie.get_value())\n",
    "                \n",
    "                \n",
    "            else:\n",
    "                \n",
    "                self.add_genre()\n",
    "                \n",
    "    def get_movies(self, genre):\n",
    "        \n",
    "        return self.genre_list[genre]"
   ]
  },
  {
   "cell_type": "markdown",
   "id": "d2e5c3ea",
   "metadata": {},
   "source": [
    "Create a class for the various streaming platforms:"
   ]
  },
  {
   "cell_type": "code",
   "execution_count": 3,
   "id": "32aac88b",
   "metadata": {},
   "outputs": [],
   "source": [
    "class Platforms:\n",
    "    \n",
    "    def __init__(self):\n",
    "        \n",
    "        self.platforms = {}\n",
    "        \n",
    "        \n",
    "    def add_platform(self, name):\n",
    "        \n",
    "        if name in self.platforms:\n",
    "            \n",
    "            print('I\\'m sorry that genre has already been added.') \n",
    "            \n",
    "        else:\n",
    "            \n",
    "            self.platforms[name] = []\n",
    "            print(f'{name} has been added to streaming services.')\n",
    "            \n",
    "            \n",
    "    def get_movies(self, platform):\n",
    "        \n",
    "        return self.platforms[platform]\n",
    "    \n",
    "    def add_movie(self, platform, movie):\n",
    "        \n",
    "        if name in self.platforms[platform]:\n",
    "            \n",
    "            print(f'I\\'m sorry that {movie} is already a part of this streaming service!')\n",
    "            \n",
    "        else:\n",
    "            \n",
    "            self.platforms[platform].append(movie)\n",
    "            \n",
    "            print(f'{movie} has been added to {platform}')\n",
    "            \n",
    "    def remove_movie(self, platform, movie):\n",
    "        \n",
    "        if name in self.platforms[platform]:\n",
    "            \n",
    "            self.platforms[platform].remove(movie)\n",
    "            \n",
    "            print(f'{movie} has been removed from {platform}')\n",
    "            \n",
    "        else:\n",
    "            \n",
    "            print(f'{movie} does not exist on {platform}')"
   ]
  },
  {
   "cell_type": "markdown",
   "id": "b654c550",
   "metadata": {},
   "source": [
    "Creating recommendation function"
   ]
  },
  {
   "cell_type": "code",
   "execution_count": null,
   "id": "7ed129b0",
   "metadata": {},
   "outputs": [],
   "source": [
    "def movie_recommender(movie_title):\n",
    "   \n",
    "    \n",
    "    "
   ]
  }
 ],
 "metadata": {
  "kernelspec": {
   "display_name": "Python 3 (ipykernel)",
   "language": "python",
   "name": "python3"
  },
  "language_info": {
   "codemirror_mode": {
    "name": "ipython",
    "version": 3
   },
   "file_extension": ".py",
   "mimetype": "text/x-python",
   "name": "python",
   "nbconvert_exporter": "python",
   "pygments_lexer": "ipython3",
   "version": "3.11.5"
  }
 },
 "nbformat": 4,
 "nbformat_minor": 5
}
